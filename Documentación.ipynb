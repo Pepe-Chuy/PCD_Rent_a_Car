{
 "cells": [
  {
   "cell_type": "markdown",
   "metadata": {},
   "source": [
    "## Rent a Car"
   ]
  },
  {
   "cell_type": "markdown",
   "metadata": {},
   "source": [
    "### Introducción \n",
    "En este proyecto de ciencia de datos, nuestro objetivo es desarrollar un modelo que estime el precio de renta diaria de un automóvil basándose en sus características específicas. Utilizando técnicas vistas en clase, buscamos identificar patrones y relaciones entre diversas variables del vehículo, como el año de fabricación, marca, modelo, tipo de combustible, kilometraje, entre otros, para ofrecer una predicción precisa sobre cuánto podría ser su valor de renta diaria.\n",
    "\n",
    "Además, utilizaremos FastAPI para desarrollar una aplicación web que permita a los usuarios interactuar de manera sencilla y rápida con el sistema. Esta aplicación permitirá predecir la renta diaria de un automóvil, lo cual es crucial en un mercado donde cada vez más personas buscan rentar vehículos. Contar con una herramienta precisa beneficiará tanto a propietarios, al establecer precios competitivos, como a clientes, al ofrecerles una tarifa justa basada en datos."
   ]
  },
  {
   "cell_type": "markdown",
   "metadata": {},
   "source": [
    "### Antecedentes\n",
    "El modelo se entrenará utilizando un archivo CSV de Kaggle sobre rentas de autos, aplicando metodologías como la limpieza de datos, selección de características y evaluación de modelos. El propósito final es proporcionar una herramienta útil para los propietarios de vehículos, que les permita establecer un precio competitivo y maximizar sus ganancias, mientras que también se ofrece a los clientes una tarifa justa y basada en datos."
   ]
  },
  {
   "cell_type": "markdown",
   "metadata": {},
   "source": [
    "### Objetivos\n",
    "\n",
    "#### General\n",
    "Desarrollar una solución basada en ciencia de datos que permita predecir el precio de renta diaria de un automóvil, aplicando técnicas de machine learning y MLOps, para optimizar la toma de decisiones en empresas de alquiler de autos mediante la implementación de un modelo predictivo que será desplegado en una API web utilizando FastAPI.\n",
    "\n",
    "#### Específicos\n",
    "\n",
    "* Realizar un análisis exploratorio de los datos de rentas de autos obtenidos de archivos CSV para identificar patrones y relaciones entre las variables clave (año de fabricación, marca, modelo, tipo de combustible, kilometraje, etc.).\n",
    "\n",
    "* Preprocesar los datos, incluyendo la limpieza, transformación y selección de características, para garantizar la calidad de los mismos.\n",
    "* Entrenar y validar diferentes modelos de machine learning para seleccionar el que mejor prediga el precio de renta diaria de los automóviles.\n",
    "* Desarrollar una API utilizando FastAPI que permita a los usuarios interactuar con el modelo predictivo para obtener estimaciones de renta.\n",
    "*Desplegar la API en la nube para garantizar su accesibilidad y escalabilidad, asegurando que los usuarios puedan consultar precios de renta de manera eficiente y en tiempo real."
   ]
  },
  {
   "cell_type": "markdown",
   "metadata": {},
   "source": [
    "### Planteamiento del problema:\n",
    "En el mercado de alquiler de automóviles, propietarios y clientes enfrentan problemas relacionados con la fijación y comparación de precios. La falta de herramientas precisas para estimar el precio de renta diaria en función de las características del vehículo lleva a precios ineficientes y a una experiencia insatisfactoria.\n",
    "\n",
    "Nuestra solución es desarrollar un modelo predictivo y desplegarlo a través de una API web con FastAPI. Esto permitirá estimar precios de manera precisa, optimizando la fijación de precios y mejorando la transparencia en el mercado."
   ]
  }
 ],
 "metadata": {
  "language_info": {
   "name": "python"
  }
 },
 "nbformat": 4,
 "nbformat_minor": 2
}
