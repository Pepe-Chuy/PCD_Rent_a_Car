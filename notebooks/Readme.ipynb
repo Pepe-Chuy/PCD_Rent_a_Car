{
 "cells": [
  {
   "cell_type": "markdown",
   "metadata": {},
   "source": [
    "## Rent a Car"
   ]
  },
  {
   "cell_type": "markdown",
   "metadata": {},
   "source": [
    "### Introducción \n",
    "En este proyecto de ciencia de datos, nuestro objetivo es desarrollar un modelo que estime el precio de renta diaria de un automóvil basándose en sus características específicas. Utilizando técnicas vistas en clase, buscamos identificar patrones y relaciones entre diversas variables del vehículo, como el año de fabricación, marca, modelo, tipo de combustible, kilometraje, entre otros, para ofrecer una predicción precisa sobre cuánto podría ser su valor de renta diaria.\n",
    "\n",
    "Además, utilizaremos FastAPI para desarrollar una aplicación web que permita a los usuarios interactuar de manera sencilla y rápida con el sistema. Esta aplicación permitirá predecir la renta diaria de un automóvil, lo cual es crucial en un mercado donde cada vez más personas buscan rentar vehículos. Contar con una herramienta precisa beneficiará tanto a propietarios, al establecer precios competitivos, como a clientes, al ofrecerles una tarifa justa basada en datos."
   ]
  },
  {
   "cell_type": "markdown",
   "metadata": {},
   "source": [
    "### Antecedentes\n",
    "El modelo se entrenará utilizando un archivo CSV de Kaggle sobre rentas de autos, aplicando metodologías como la limpieza de datos, selección de características y evaluación de modelos. El propósito final es proporcionar una herramienta útil para los propietarios de vehículos, que les permita establecer un precio competitivo y maximizar sus ganancias, mientras que también se ofrece a los clientes una tarifa justa y basada en datos."
   ]
  },
  {
   "cell_type": "markdown",
   "metadata": {},
   "source": [
    "### Objetivos\n",
    "\n",
    "#### General\n",
    "Desarrollar una solución basada en ciencia de datos que permita predecir el precio de renta diaria de un automóvil, aplicando técnicas de machine learning y MLOps, para optimizar la toma de decisiones en empresas de alquiler de autos mediante la implementación de un modelo predictivo que será desplegado en una API web utilizando FastAPI.\n",
    "\n",
    "#### Específicos\n",
    "\n",
    "* Realizar un análisis exploratorio de los datos de rentas de autos obtenidos de archivos CSV para identificar patrones y relaciones entre las variables clave (año de fabricación, marca, modelo, tipo de combustible, kilometraje, etc.).\n",
    "\n",
    "* Preprocesar los datos, incluyendo la limpieza, transformación y selección de características, para garantizar la calidad de los mismos.\n",
    "* Entrenar y validar diferentes modelos de machine learning para seleccionar el que mejor prediga el precio de renta diaria de los automóviles.\n",
    "* Desarrollar una API utilizando FastAPI que permita a los usuarios interactuar con el modelo predictivo para obtener estimaciones de renta.\n",
    "*Desplegar la API en la nube para garantizar su accesibilidad y escalabilidad, asegurando que los usuarios puedan consultar precios de renta de manera eficiente y en tiempo real."
   ]
  },
  {
   "cell_type": "markdown",
   "metadata": {},
   "source": [
    "### Planteamiento del problema:\n",
    "En el mercado de alquiler de automóviles, propietarios y clientes enfrentan problemas relacionados con la fijación y comparación de precios. La falta de herramientas precisas para estimar el precio de renta diaria en función de las características del vehículo lleva a precios ineficientes y a una experiencia insatisfactoria.\n",
    "\n",
    "Nuestra solución es desarrollar un modelo predictivo y desplegarlo a través de una API web con FastAPI. Esto permitirá estimar precios de manera precisa, optimizando la fijación de precios y mejorando la transparencia en el mercado."
   ]
  },
  {
   "cell_type": "markdown",
   "metadata": {},
   "source": [
    "### Modelado:\n",
    "\n",
    "Para el modelado realizamos experimentos mútliples a ver cuál obbtenía el mejor resultado, estos modelos fueron distintos RandomForestRegressor utilizamndo gridsearch para obtener y loggear el mejor modelo, todo lo orquestamos en primer instancia a través de un notebook y posteriormente haciendo uso de un flujo de MLflow, finalmente el mejor modelo fue un RandomForest."
   ]
  },
  {
   "cell_type": "markdown",
   "metadata": {},
   "source": [
    "### Piepline:\n",
    "El pipeline de Prefect tiene tasks variadas\n",
    "- Read Data: toma el path y convierte en un dataframe\n",
    "- Train-Test-Split: hacemos el split de train test y separamos X y Y\n",
    "- Train Best Model: entrenamos el Random Forest con gridsearch\n",
    "- Log Best Model: Loggeamos el mejor modelo a mlflow"
   ]
  },
  {
   "cell_type": "markdown",
   "metadata": {},
   "source": [
    "### App:\n",
    "Para la parte de la app desarrollamos dos contenedores que se orquestan utilizando un docker_compose.yaml, generamos un set de main, Dockerfile y Requirements para la El Backend y otro set para el backend.   \n",
    "\n",
    "El backend fue generado sobre FastApi, haciendo uso de un modelo que ya habíamos cargaado anteriormente en MLflow, el frontend fue levantado haciendo uso de streamlit para recibir del usuario a través de una UI bien elabroada, todos los datos necesarios para elaborar las predicciones."
   ]
  },
  {
   "cell_type": "markdown",
   "metadata": {},
   "source": [
    "### Deployment:\n",
    "\n",
    "Finalmente hicimos uso de una instancia Ec2 de AWS para levantar las imagenes de la app, tanto backend como frontend y finalmente podemos conectarnos y hacer una request a la api a través de la dirección del ec2, y funcionó de maravilla."
   ]
  },
  {
   "cell_type": "markdown",
   "metadata": {},
   "source": [
    "### Conclusiones:\n",
    "A través de este proyecto pudimos entender el ciclo de vida completo de un modelo de ML y todo lo que conlleva, el registry y versionado de modelos, elaborar un flujo de Prefect, generar una app funcional con backend frontend y a deployearla haciendo uso de una ec2.   \n",
    "Si bien esto representó un desafío, los aprendizajes que obtuvimos son cosas que nos serán muy útiles en un fututo para poder hacer de nuestros modelos algo tangible y funcional, aprovechandolo lo mejor posible."
   ]
  }
 ],
 "metadata": {
  "language_info": {
   "name": "python"
  }
 },
 "nbformat": 4,
 "nbformat_minor": 2
}
