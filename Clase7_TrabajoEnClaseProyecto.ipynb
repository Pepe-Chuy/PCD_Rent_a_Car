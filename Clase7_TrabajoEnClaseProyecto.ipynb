{
 "cells": [
  {
   "cell_type": "markdown",
   "id": "4163ef29738cf455",
   "metadata": {},
   "source": [
    "# Proyecto final\n",
    "1. Recuerde que se divide en dos partes:\n",
    "    - Informe escrito y código\n",
    "    - Presentación\n",
    "2. Habrá entregas parciales, las cuales son un prerrequisito para el proyecto final.\n",
    "    - La calificación de dichas entregas entran en el apartado de tares y trabajo en clase.\n",
    "    - Primera entrega:\n",
    "        + Introducción\n",
    "        + Antecedentes\n",
    "        + Objetivos\n",
    "        + Planteamiento del problema\n",
    "        + EDA\n",
    "        + Data Wrangling (Limpieza de datos)\n",
    "\n",
    "## Actividades Primera entrega\n",
    "1. Crear un repositorio en Github, añadir a los compañeros como colaboradores.\n",
    "2. Trabajar sobre una rama llamada `feat/primera-entrega` y hacer todos los cambios ahí.\n",
    "3. Una vez terminados los cambios, se debe enviar el `Pull Request (PR)` de dicha rama hacia la rama `main`.\n",
    "4. El `PR` lo debe enviar un integrante del equipo, y los demás deben estar como reviewers del `PR` y aceptarlo. \n",
    "5. Una vez revisado y aceptado el `PR`, hacer el `merge` de dicho `PR` en `main`.\n",
    "\n",
    "### Entregas\n",
    "Habrá dos entregas divididas de la siguiente manera:\n",
    "\n",
    "1. **Trabajo en clase (del proyecto) hoy Martes 3 de Septiembre de 2024.** Para esta entrega, hacer un commit con el siguiente mensaje `feat: entrega trabajo en clase` con los avances realizados en clase.\n",
    "2. **Fecha de la primera entrega: Marte 10 de Septiembre de 2024 a las 19:55.** Esta entrega debe contener todo lo descrito anteriormente y que esta detallado a continuación, incluido el `PR`."
   ]
  },
  {
   "cell_type": "markdown",
   "id": "41fcb8023677948c",
   "metadata": {},
   "source": [
    "___\n",
    "## 1. Entregable.\n",
    "Los trabajos deben tener los siguientes componentes básicos.\n",
    "\n",
    "#### 1. **Título del trabajo:**\n",
    "El título del trabajo debe ser una descripción concisa pero informativa del proyecto. Debe reflejar el tema principal y el propósito de la solución que están desarrollando.\n",
    "\n",
    "#### 2. **Introducción:**\n",
    "La introducción es la sección inicial del informe que proporciona una visión general del proyecto. Debe explicar brevemente de qué trata el proyecto, su importancia y su relevancia en el contexto de la ciencia de datos.\n",
    "\n",
    "#### 3. **Antecedentes:**\n",
    "En esta sección, los estudiantes deben proporcionar información contextual sobre el tema del proyecto. Esto podría incluir investigaciones previas, estudios relacionados, tecnologías utilizadas y cualquier otro elemento que respalde la necesidad de abordar este problema.\n",
    "\n",
    "#### 4. **Objetivos:**\n",
    "En esta sección, se deben establecer los objetivos del proyecto. Esto incluye definir claramente lo que se espera lograr con la solución de ciencia de datos.\n",
    "\n",
    "+ **Objetivos Generales:** Los objetivos generales son los propósitos amplios y fundamentales que se persiguen con el proyecto en su conjunto. Estos objetivos proporcionan una visión general de lo que se espera lograr, pero no entran en detalles específicos sobre cómo se lograrán. Son metas amplias que dan dirección al proyecto en su conjunto. En el contexto de un proyecto de ciencia de datos, los objetivos generales establecen el propósito general de aplicar los conceptos de ciencia de datos y MLOPS para resolver un problema real.\n",
    "    \n",
    "+ **Objetivos Específicos:** Los objetivos específicos son metas detalladas y concretas que se establecen para lograr los objetivos generales. Estos objetivos se centran en tareas o logros particulares que deben llevarse a cabo en el transcurso del proyecto. En un proyecto de ciencia de datos, los objetivos específicos pueden incluir pasos concretos como realizar un análisis exploratorio de datos, preprocesar datos, entrenar un modelo, crear una API, conteneirizar el servicio y desplegarlo en la nube. Los objetivos específicos brindan una hoja de ruta detallada para alcanzar los objetivos generales.\n",
    "\n",
    "#### 5. **Planteamiento del problema:**\n",
    "Aquí, los estudiantes deben describir detalladamente el problema que están abordando. Deben explicar por qué es un problema relevante y cómo puede resolverse o mejorarse mediante el uso de técnicas de ciencia de datos.\n",
    "\n",
    "#### 6. **Desarrollo de la solución:**\n",
    "Esta es la parte central del informe y debe dividirse en varias subsecciones:\n",
    "\n",
    "+ **EDA (Análisis Exploratorio de Datos):** Aquí, los estudiantes deben mostrar cómo exploraron y analizaron los datos, identificando tendencias, patrones y características importantes.\n",
    "\n",
    "+ **Data Wrangling:** En esta sección, se describe cómo se limpiaron y prepararon los datos para su análisis, incluyendo la eliminación de valores atípicos y la imputación de datos faltantes.\n"
   ]
  },
  {
   "cell_type": "markdown",
   "id": "4d916d609bbfcec0",
   "metadata": {},
   "source": [
    "NOTA: El proyecto se debe encontrar en un repositorio de `github`.\n",
    "\n",
    "El repositorio debe tener la siguiente estructura recomendada, sin embargo puede adaptarla al caso de uso de su proyecto\n",
    "\n",
    "```\n",
    "├── LICENSE                              # License file for the project.\n",
    "├── README.md                            # Top-level README for developers using this project.\n",
    "├── data\n",
    "│   ├── external                         # Data from third-party sources.\n",
    "│   ├── interim                          # Intermediate data that has been transformed.\n",
    "│   ├── processed                        # The final, canonical data sets for modeling.\n",
    "│   └── raw                              # The original, immutable data dump.\n",
    "├── notebooks                            # Jupyter notebooks for exploration, training, etc.\n",
    "├── Informe Escrito\n",
    "│   └── PrimerNombrePrimerApellido.ipynb\n",
    "├── src\n",
    "│   ├── __init__.py                      # Makes src a Python module.\n",
    "│   ├── docker-compose.yaml              # Docker Compose file to orchestrate containers.\n",
    "│   ├── frontend                         # Source code for the Streamlit user interface.\n",
    "│   │   ├── Dockerfile                   # Dockerfile for building the frontend container.\n",
    "│   │   ├── app.py                       # Streamlit app entry point.\n",
    "│   │   └── requirements.txt             # Frontend-specific Python dependencies.\n",
    "│   ├── backend                          # API source code for model interaction.\n",
    "│   │   ├── Dockerfile                   # Dockerfile for building the backend container.\n",
    "│   │   ├── __init__.py\n",
    "│   │   ├── api.py                       # Example API module.\n",
    "│   │   └── requirements.txt             # Backend-specific Python dependencies.\n",
    "```"
   ]
  }
 ],
 "metadata": {
  "kernelspec": {
   "display_name": "Python 3 (ipykernel)",
   "language": "python",
   "name": "python3"
  },
  "language_info": {
   "codemirror_mode": {
    "name": "ipython",
    "version": 3
   },
   "file_extension": ".py",
   "mimetype": "text/x-python",
   "name": "python",
   "nbconvert_exporter": "python",
   "pygments_lexer": "ipython3",
   "version": "3.12.5"
  }
 },
 "nbformat": 4,
 "nbformat_minor": 5
}
